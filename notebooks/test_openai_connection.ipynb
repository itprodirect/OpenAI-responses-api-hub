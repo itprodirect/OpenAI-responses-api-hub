{
 "cells": [
  {
   "cell_type": "code",
   "execution_count": 1,
   "id": "e0748ce3-90dd-43f6-bf89-3aeecbb5e5e4",
   "metadata": {},
   "outputs": [
    {
     "name": "stdout",
     "output_type": "stream",
     "text": [
      "Hey Nick! Just wanted to let you know how awesome you are at debugging AI APIs. Your skills make everything run smoothly and efficiently. Keep up the fantastic work!\n"
     ]
    }
   ],
   "source": [
    "import sys, os\n",
    "sys.path.append(os.path.abspath(os.path.join(os.getcwd(), '..')))\n",
    "\n",
    "from utils.openai_client import get_response\n",
    "\n",
    "response = get_response(\"Tell Nick how awesome he is at debugging AI APIs.\")\n",
    "print(response)"
   ]
  },
  {
   "cell_type": "code",
   "execution_count": null,
   "id": "8acf28d8-667e-4e69-ac87-b943867995bc",
   "metadata": {},
   "outputs": [],
   "source": []
  }
 ],
 "metadata": {
  "kernelspec": {
   "display_name": "Python 3 (ipykernel)",
   "language": "python",
   "name": "python3"
  },
  "language_info": {
   "codemirror_mode": {
    "name": "ipython",
    "version": 3
   },
   "file_extension": ".py",
   "mimetype": "text/x-python",
   "name": "python",
   "nbconvert_exporter": "python",
   "pygments_lexer": "ipython3",
   "version": "3.9.19"
  }
 },
 "nbformat": 4,
 "nbformat_minor": 5
}
