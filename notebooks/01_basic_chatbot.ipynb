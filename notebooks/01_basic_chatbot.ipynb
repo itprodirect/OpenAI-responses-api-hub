{
 "cells": [
  {
   "cell_type": "markdown",
   "id": "0406aa11-15fc-4706-ae4f-53760bb18929",
   "metadata": {},
   "source": [
    "# 🤖 Build Your First Basic Chatbot with the OpenAI Responses API\r\n",
    "\r\n",
    "Welcome! In this notebook, we're going to show you how to talk to a powerful AI model using **OpenAI's Responses API**.\r\n",
    "\r\n",
    "This will be like texting a super-smart assistant — and we'll explain each step like you're 5 years old (ELI5 style).\r\n",
    "\r\n",
    "You'll learn:\r\n",
    "\r\n",
    "- 🔑 How to securely load your API key  \r\n",
    "- 📬 How to send a message to the model  \r\n",
    "- 💬 How to print out what it says back  \r\n",
    "\r\n",
    "Let’s getstarted! 🚀\r\n"
   ]
  },
  {
   "cell_type": "markdown",
   "id": "542d3cd0-d5f9-48f2-ae9f-359bb348872f",
   "metadata": {},
   "source": [
    "## 🔑 Step 1: Load Your API Key from `.env`\r\n",
    "\r\n",
    "To keep your API key safe, we don’t paste it into the notebook. Instead, we save it in a hidden `.env` file and load it from there.\r\n",
    "\r\n",
    "Think of the `.env` file like a secret drawer. We’re just opening the drawer and grabbing the ey.\r\n"
   ]
  },
  {
   "cell_type": "code",
   "execution_count": 1,
   "id": "54862765-e95c-4fe7-aae8-beb985294ba6",
   "metadata": {},
   "outputs": [
    {
     "name": "stdout",
     "output_type": "stream",
     "text": [
      "API key loaded!\n"
     ]
    }
   ],
   "source": [
    "from dotenv import load_dotenv\n",
    "import os\n",
    "\n",
    "# 📂 Load your .env file\n",
    "load_dotenv()\n",
    "\n",
    "# 🔐 Get the API key from environment variable\n",
    "api_key = os.getenv(\"OPENAI_API_KEY\")\n",
    "\n",
    "# ✅ Confirm we got something (but don't print the key!)\n",
    "print(\"API key loaded!\" if api_key else \"❌ No API key found.\")"
   ]
  },
  {
   "cell_type": "markdown",
   "id": "6cce14cc-4aa3-48bf-b482-3f793785cbdc",
   "metadata": {},
   "source": [
    "## 📡 Step 2: Set Up the API Call\r\n",
    "\r\n",
    "Now we’re going to set up the request to OpenAI's **Responses API**.\r\n",
    "\r\n",
    "This is like writing a letter:\r\n",
    "- We need the **address** (the API URL) 📫  \r\n",
    "- We need to include our **ID card** (API key in the headers) 🪪  \r\n",
    "- And we need to say what we want to ask (the paylad) ✍️\r\n"
   ]
  },
  {
   "cell_type": "code",
   "execution_count": 2,
   "id": "c4eebdb8-0b09-42ec-8e01-b4dfc32102f6",
   "metadata": {},
   "outputs": [
    {
     "name": "stdout",
     "output_type": "stream",
     "text": [
      "📦 Request setup complete!\n"
     ]
    }
   ],
   "source": [
    "import requests\n",
    "\n",
    "# 🌍 API endpoint (this is where we send the message)\n",
    "url = \"https://api.openai.com/v1/responses\"\n",
    "\n",
    "# 🧾 Headers include your identity (API key)\n",
    "headers = {\n",
    "    \"Authorization\": f\"Bearer {api_key}\",\n",
    "    \"Content-Type\": \"application/json\"\n",
    "}\n",
    "\n",
    "print(\"📦 Request setup complete!\")"
   ]
  },
  {
   "cell_type": "markdown",
   "id": "488f91b9-e825-4e42-89fe-729232df5c3c",
   "metadata": {},
   "source": [
    "## ✉️ Step 3: Send a Message to the Chatbot\r\n",
    "\r\n",
    "Now that we have everything ready, let's send our first message!\r\n",
    "\r\n",
    "This is like putting our question in an envelope and mailing it to OpenAI's model.  \r\n",
    "We'll ask something simple and fun just to test thingsout.\r\n"
   ]
  },
  {
   "cell_type": "code",
   "execution_count": 3,
   "id": "5bb1bec0-c08f-4f47-b99a-4251561f60c3",
   "metadata": {},
   "outputs": [
    {
     "name": "stdout",
     "output_type": "stream",
     "text": [
      "✅ Message sent and response received!\n"
     ]
    }
   ],
   "source": [
    "# 🧠 The message we want to send to the model\n",
    "prompt = \"Hi there! Can you explain what a chatbot is like I'm 5 years old?\"\n",
    "\n",
    "# 📬 This is the payload (our message + model choice)\n",
    "payload = {\n",
    "    \"model\": \"gpt-4o\",\n",
    "    \"input\": prompt\n",
    "}\n",
    "\n",
    "# 🚀 Send the request to the Responses API\n",
    "response = requests.post(url, headers=headers, json=payload)\n",
    "\n",
    "# 📥 Save the JSON reply\n",
    "response_json = response.json()\n",
    "\n",
    "print(\"✅ Message sent and response received!\")"
   ]
  },
  {
   "cell_type": "markdown",
   "id": "468383a7-c2dc-4c6a-bcaf-39dbb2c6b6aa",
   "metadata": {},
   "source": [
    "## 🗣️ Step 4: Show the Chatbot's Response\r\n",
    "\r\n",
    "Now we’ll extract just the AI's reply from the big JSON package.\r\n",
    "\r\n",
    "It’s like opening the letter the chatbot sent back and reading the actual messag 📩\r\n"
   ]
  },
  {
   "cell_type": "code",
   "execution_count": 4,
   "id": "0de66fb5-3714-4677-9f63-2d2bcbfeddf9",
   "metadata": {},
   "outputs": [
    {
     "name": "stdout",
     "output_type": "stream",
     "text": [
      "🤖 Chatbot says:\n",
      "\n",
      "Sure! Imagine a chatbot is like a friendly talking robot that lives inside a computer or a phone. You can ask it questions or tell it to do things, and it answers back with words. It’s like having a helper or a friend that talks and listens to you!\n"
     ]
    }
   ],
   "source": [
    "# 🧵 Follow the structure of the JSON to get the message\n",
    "try:\n",
    "    output_text = response_json[\"output\"][0][\"content\"][0][\"text\"]\n",
    "    print(\"🤖 Chatbot says:\\n\")\n",
    "    print(output_text)\n",
    "except Exception as e:\n",
    "    print(\"⚠️ Something went wrong:\", e)"
   ]
  },
  {
   "cell_type": "code",
   "execution_count": null,
   "id": "15218c9e-9377-4991-90c1-fc9ffe0529d0",
   "metadata": {},
   "outputs": [],
   "source": []
  }
 ],
 "metadata": {
  "kernelspec": {
   "display_name": "Python 3 (ipykernel)",
   "language": "python",
   "name": "python3"
  },
  "language_info": {
   "codemirror_mode": {
    "name": "ipython",
    "version": 3
   },
   "file_extension": ".py",
   "mimetype": "text/x-python",
   "name": "python",
   "nbconvert_exporter": "python",
   "pygments_lexer": "ipython3",
   "version": "3.9.19"
  }
 },
 "nbformat": 4,
 "nbformat_minor": 5
}
